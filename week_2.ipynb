{
  "nbformat": 4,
  "nbformat_minor": 0,
  "metadata": {
    "colab": {
      "provenance": [],
      "authorship_tag": "ABX9TyNbcCr/5x8aYitsg+dzK/fo",
      "include_colab_link": true
    },
    "kernelspec": {
      "name": "python3",
      "display_name": "Python 3"
    },
    "language_info": {
      "name": "python"
    }
  },
  "cells": [
    {
      "cell_type": "markdown",
      "metadata": {
        "id": "view-in-github",
        "colab_type": "text"
      },
      "source": [
        "<a href=\"https://colab.research.google.com/github/AlexPantaleon/HackTheHoodHustle/blob/main/week_2.ipynb\" target=\"_parent\"><img src=\"https://colab.research.google.com/assets/colab-badge.svg\" alt=\"Open In Colab\"/></a>"
      ]
    },
    {
      "cell_type": "code",
      "execution_count": 23,
      "metadata": {
        "colab": {
          "base_uri": "https://localhost:8080/"
        },
        "id": "qbhPsGimh676",
        "outputId": "f5c0985d-d8c1-446d-d943-6e3b8193e99f"
      },
      "outputs": [
        {
          "output_type": "stream",
          "name": "stdout",
          "text": [
            "42\n",
            "27\n",
            "4826\n",
            "82\n",
            "734\n",
            "734\n",
            "618\n",
            "8254\n",
            "618\n",
            "618\n",
            "618\n"
          ]
        }
      ],
      "source": [
        "from re import T\n",
        "# how to create and print variables\n",
        "time = 42\n",
        "level = 27\n",
        "score = 4826\n",
        "print(time)\n",
        "print(level)\n",
        "print(score)\n",
        "\n",
        "# variable reassignment\n",
        "time = 82\n",
        "print(time)\n",
        "time = 138\n",
        "time = 734\n",
        "print(time)\n",
        "print(time)\n",
        "time = 618\n",
        "print(time)\n",
        "\n",
        "# variable reassigment to varaible\n",
        "start = time\n",
        "end = time\n",
        "time = 8254\n",
        "print(time)\n",
        "print(end)\n",
        "time = start\n",
        "print(time)\n",
        "print(start)"
      ]
    },
    {
      "cell_type": "code",
      "source": [
        "# variable names with snake case & data types\n",
        "# note - capitalization matters\n",
        "# undefined means Python\n",
        "tree = 37\n",
        "print(type(tree))\n",
        "\n",
        "life_gives_life = 5.16\n",
        "print(type(life_gives_life))\n",
        "\n",
        "my_name = \"LifeWeaver\"\n",
        "my_name_single_quotes = 'LifeWeaver'\n",
        "print(my_name)\n",
        "print(type(my_name))\n",
        "\n",
        "print(my_name_single_quotes)\n",
        "print(type(my_name_single_quotes))\n",
        "\n",
        "today_is_a_good_day = True\n",
        "print(today_is_a_good_day)\n",
        "print(type(today_is_a_good_day))\n",
        "\n",
        "the_sky_is_red = False\n",
        "print(the_sky_is_red)\n",
        "print(type(the_sky_is_red))"
      ],
      "metadata": {
        "colab": {
          "base_uri": "https://localhost:8080/"
        },
        "id": "U_ii5vGHxYUQ",
        "outputId": "7c997308-9f1e-4a8a-b8b7-be8568631b96"
      },
      "execution_count": 32,
      "outputs": [
        {
          "output_type": "stream",
          "name": "stdout",
          "text": [
            "<class 'int'>\n",
            "<class 'float'>\n",
            "LifeWeaver\n",
            "<class 'str'>\n",
            "LifeWeaver\n",
            "<class 'str'>\n",
            "True\n",
            "<class 'bool'>\n",
            "False\n",
            "<class 'bool'>\n"
          ]
        }
      ]
    },
    {
      "cell_type": "markdown",
      "source": [
        "### Pseudo code for my application\n",
        "\n",
        "I want to write a program that takes user input and prints it back to the screen.\n",
        "\n",
        "'First_name' the user's first name\n",
        "\n",
        "'Last_name' the user's last name\n",
        "\n",
        "'Age' the user's age\n",
        "\n",
        "'Fav_Sport' the user's favortie sport\n",
        "\n",
        "\"Fav_color' the user's favorite color\n",
        "\n",
        "'Fav_Movie' the user's favorite movie"
      ],
      "metadata": {
        "id": "RUEeqKo_E0rB"
      }
    },
    {
      "cell_type": "code",
      "source": [
        "from typing_extensions import LiteralString\n",
        "First_name = 'Niran'\n",
        "Last_name = 'pruksamanee'\n",
        "Age = 31\n",
        "Fav_Colour = 'Red'\n",
        "Fav_Sport = 'Swimming'\n",
        "Code_name = 'LifeWeaver'"
      ],
      "metadata": {
        "id": "QPODMSiDE3MQ"
      },
      "execution_count": 35,
      "outputs": []
    },
    {
      "cell_type": "code",
      "source": [
        "# Pseudo Code\n",
        "\n",
        "First_name = input('what is your first name? ')\n",
        "\n",
        "Last_name = input('what is your last name? ')\n",
        "\n",
        "Age = input('what is your age? ')\n",
        "\n",
        "Fav_Colour = input('what is your favorite colour? ')\n",
        "\n",
        "Fav_Sport = input('what is your favorite sport? ')\n",
        "\n",
        "Code_name = input('what is your code name? ')"
      ],
      "metadata": {
        "colab": {
          "base_uri": "https://localhost:8080/"
        },
        "id": "sAbGMc2aGzdN",
        "outputId": "27a94c95-54ea-4d95-96b8-439da5abe3ea"
      },
      "execution_count": 37,
      "outputs": [
        {
          "name": "stdout",
          "output_type": "stream",
          "text": [
            "what is your first name? Niran\n",
            "what is your last name? Pruksamanee\n",
            "what is your age? 31\n",
            "what is your favorite colour? Red\n",
            "what is your favorite sport? Swimming\n",
            "what is your code name? LifeWeaver\n"
          ]
        }
      ]
    },
    {
      "cell_type": "code",
      "source": [
        "# F-string Formatting\n",
        "print(f\"hello there, i'm {First_name} {Last_name}, but i go by {Code_name} and at the age of {Age}. How about you\")"
      ],
      "metadata": {
        "colab": {
          "base_uri": "https://localhost:8080/"
        },
        "id": "Qrd9sJrRHIQj",
        "outputId": "d32a8c94-83aa-4ead-83b5-8b8bb3c14109"
      },
      "execution_count": 38,
      "outputs": [
        {
          "output_type": "stream",
          "name": "stdout",
          "text": [
            "hello there, i'm Niran Pruksamanee, but i go by LifeWeaver and at the age of 31. How about you\n"
          ]
        }
      ]
    }
  ]
}