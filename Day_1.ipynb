{
  "nbformat": 4,
  "nbformat_minor": 0,
  "metadata": {
    "colab": {
      "provenance": [],
      "authorship_tag": "ABX9TyNcdECabhRE4JydVEVTt7qK",
      "include_colab_link": true
    },
    "kernelspec": {
      "name": "python3",
      "display_name": "Python 3"
    },
    "language_info": {
      "name": "python"
    }
  },
  "cells": [
    {
      "cell_type": "markdown",
      "metadata": {
        "id": "view-in-github",
        "colab_type": "text"
      },
      "source": [
        "<a href=\"https://colab.research.google.com/github/AlexPantaleon/HackTheHoodHustle/blob/main/Day_1.ipynb\" target=\"_parent\"><img src=\"https://colab.research.google.com/assets/colab-badge.svg\" alt=\"Open In Colab\"/></a>"
      ]
    },
    {
      "cell_type": "code",
      "execution_count": null,
      "metadata": {
        "colab": {
          "base_uri": "https://localhost:8080/"
        },
        "id": "WHmCDP9J7Ywb",
        "outputId": "181f0e67-5170-4900-c959-75f8569c3a5d"
      },
      "outputs": [
        {
          "output_type": "stream",
          "name": "stdout",
          "text": [
            "Hello World\n",
            "123456789\n",
            "1\n",
            "10.0\n",
            "25.5\n",
            "Spider-Man\n",
            "hi i'm paul and I like food\n",
            "True\n",
            "False\n",
            "True\n",
            "True\n",
            "72847289\n",
            "6\n",
            "3.12\n",
            "10.0\n",
            "6.5\n",
            "Hello World\n",
            "racecar\n",
            "hi i'm paul and I like food.\n",
            "True\n",
            "False\n"
          ]
        }
      ],
      "source": [
        "print(\"Hello World\")\n",
        "print(123456789)\n",
        "print(0 + 1)\n",
        "print(9.1 + .9)\n",
        "print(20 + 5.5)\n",
        "print(\"Spider\" + \"-Man\") # concatenation\n",
        "print(\"hi i'm paul\" + \" and \" + \"I like food\")\n",
        "print(7 > 2)\n",
        "print(2 > 7)\n",
        "print(2 == 2)\n",
        "print(2 != 3)\n",
        "#intergers = whole numbers, used for math, 1, intergers cant start with 0\n",
        "#float = decimal numbers, used for math, 1.0\n",
        "#strings = anything inside of '' or \"\", can include \"Alex\", or \"123456789\"\n",
        "#booleans = True or False, = true = 1 false = , in python, we say TRUE or FALSE\n",
        "#Integers = whole numbers, used for math, 1\n",
        "print(72847289)\n",
        "print(2 * 3)\n",
        "#float = decimal numbers, used for math, 1.0\n",
        "print(3.12)\n",
        "print(9.1 + .9)\n",
        "print(4 + 2.5)\n",
        "#Strings = Anything inside of '' or \"\", can inlude \"Clarkston\", \"800 West Main St\"\n",
        "print(\"Hello World\")\n",
        "print(\"race\" + \"car\") #concatenation or concat\n",
        "print(\"hi i'm paul\" + \" and \" + \"I like food.\")\n",
        "#booleans = True or False, true = 1 false = , in python, we say True and False\n",
        "print(7 > 2)\n",
        "print(2 > 7)"
      ]
    },
    {
      "cell_type": "code",
      "source": [],
      "metadata": {
        "id": "mdgpjj_s7iqA"
      },
      "execution_count": null,
      "outputs": []
    }
  ]
}